{
 "cells": [
  {
   "cell_type": "markdown",
   "id": "536b3938-979d-4329-91ff-760d710599d9",
   "metadata": {},
   "source": [
    "###### This content was inspired by notes from BYU's ACME Program: [Link](http://www.acme.byu.edu/wp-content/uploads/2016/08/OOP.pdf)\n",
    "\n",
    "\n",
    "## What are Classes?\n",
    "\n",
    "**Classes** are a critical element of object-oriented programming. Basically everything that you work with in Python belongs to a class. A class is **type** of object that we are working with. In order to work with numbers, we have to understand that they have specific functionality. You might remember from week 1 when we introduced the basic types of information in Python that we talked about the different functions available to us with numbers, strings, or any other type. \n",
    "\n",
    "Hidden in the background of this conversation was the fact that Python has a defined understanding of numbers, for example. Each number that we can work with belongs to a **class** of objects (either `int` or `float`) that defines the way that numbers are supposed to work. Information about the data contained by that specific number object and functions that apply specifically to that object are associated with the object through its **class inheritance**. This inheritance allows one class to build off of another, and we will see this in action throughout this course.\n",
    "\n",
    "Perhaps the single greatest advantage a class provides is to allow us to generate multiple related objects, and to manipulate them quickly and efficiently. Let's start making classes to understand a bit more\n"
   ]
  },
  {
   "cell_type": "markdown",
   "id": "6044150c-058e-4958-9d01-a9ff986cd5b8",
   "metadata": {},
   "source": [
    "## Creating classes\n",
    "\n",
    "Let's imagine we work at a cafeteria, and that we want to represent a sandwich as code. There are certain things we would want to know about every sandwich:\n",
    "1) Whose is it?\n",
    "2) What toppings will we put on our sandwich?\n",
    "3) What kind of bread will we use?\n",
    "\n",
    "How can we start designing our sandwich code?"
   ]
  },
  {
   "cell_type": "code",
   "execution_count": null,
   "id": "10dbb263-3660-4bc7-9685-886f71f2311e",
   "metadata": {},
   "outputs": [],
   "source": [
    "class Sandwich(object):\n",
    "    def __init__(self, owner, bread='white'):\n",
    "        self.owner = owner\n",
    "        self.bread = bread\n",
    "        self.toppings = []"
   ]
  },
  {
   "cell_type": "markdown",
   "id": "026775a1-0301-4502-b7ef-17849881664e",
   "metadata": {
    "tags": []
   },
   "source": [
    "When we create a class, the FIRST functionality that we need to create is to describe how to initialize an object of that class (in this case, a ```Sandwich```). We do this by using the ```__init__()``` method (methods are functions assigned to a class object)\n",
    "- We tell our object what arguments to expect, and store these values as **attributes** of our object\n",
    "\n",
    "An **attribute** is a piece of information that is directly attached to an **instance of a class**. It tells us some of the characteristics of that object. An **instance** of a class is just one object that inherits attributes and functionality from a specific class. For example, `int` is the class of integer objects and `7` is an **instance** of the `int` class.\n",
    "\n",
    "Note that, although some built-in classes do not follow this rule, when we define a class, it is best practice to give it a name with a capitalized first letter, to distinguish it from a function. Traditionally, functions (and variables) are given names that start with lower-case letters.\n",
    "\n",
    "### Inheritance\n",
    "\n",
    "A class can **inherit** from another class. When we wrote `class Sandwich(object):`, the `object` class is the class from which our new `Sandwich` class will inherit. This is the most generic inheritance that we can give. Basically, we are saying that `Sandwich` will be a class, but will not inherit anything but the most rudimentary building blocks of an object. We could also specify that a class will inherit from any other existing class, if that would help us to build the functionality that we need.\n",
    "\n",
    "### `__init__`\n",
    "\n",
    "As we create our class, we need to start by defining the function `__init__` (two underscores on each side). This function tells our class how to make use of any external information provided as we create a new instance of our class. Just like a function, `__init__` takes arguments. These arguments always begin with `self`. `self` is the argument that tells our function that it is attached to a class, and that it should ensure that it has access to that class. In short, we are giving our function permission to modify our object.\n",
    "\n",
    "Any other arguments are provided after self, and can bring useful information for describing a specific instance of the class. In our case these are `owner` and `bread`, so that we can indicate who owns the sandwich and what kind of bread it was made on. We can also see that `bread` has a default argument: `bread='white'` tells Python that the default bread type is `white`, and that if the user does not specify a type of bread, we can work with `white` bread in this instance. No default is provided for `owner`, though. The user MUST specify the owner, or encounter an error.\n",
    "\n",
    "Inside of the `__init__` function, we assign arguments to **attributes** using the `.` syntax. We are creating information that is tied to our class instance. For example, each sandwich instance will have an attribute `.owner`, which will contain information about who the owner of the sandwich is, as well as a `.bread` attribute taking in information about which bread was used. We can also create other attributes. In this case, we create a `.toppings` attribute associated with an empty list that will be filled in as we add toppings to the sandwich.\n",
    "\n",
    "\n",
    "### Creating an instance of a class\n",
    "\n",
    "Let's make an instance of our `Sandwich` class."
   ]
  },
  {
   "cell_type": "code",
   "execution_count": null,
   "id": "a8b9ff8c-c2bc-4924-9bd0-3967ba3a1163",
   "metadata": {
    "tags": []
   },
   "outputs": [],
   "source": [
    "mine = Sandwich('Dusty')\n",
    "print(mine)"
   ]
  },
  {
   "cell_type": "markdown",
   "id": "b9a859e4-d788-401e-8206-6f0ea4fd4521",
   "metadata": {
    "tags": []
   },
   "source": [
    "We created a delicious sandwich class, but we can't print anything about it! This is because we have created a class that stores some information about our instance, but does not have any functionality to accompany that storage. Now we need to write **methods** to make use of the information contained by our instance of `Sandwich`. A **method** is simply a function that is attached to a class object. We define these functions inside of the class definition, so that they are indented within the block of code that constitutes the class itself."
   ]
  },
  {
   "cell_type": "markdown",
   "id": "da85c884-1869-4ebe-af4b-2ab64704028b",
   "metadata": {},
   "source": [
    "### Magic Methods (MANY more [here](https://www.python-course.eu/python3_magic_methods.php))\n",
    "\n",
    "Some of the first methods we should define are **magic methods**, or methods using common operators. Magic methods must be defined to take advantage of operators like the `+` or addition operator, and all other logical and mathematical operators. These operators generally take two arguments: `self` and `other`. The `self` argument is the object references **in front of** the operator, and `other` denotes the object that follows the operator. If we write `3 + 5`, then `self` is `3` and `other` is `5`. Here are a few of the most common magic methods:\n",
    "\n",
    "\n",
    "| Operator | Method                                |\n",
    "|----------|---------------------------------------|\n",
    "| +        | object.\\_\\_add\\_\\_(self, other)           |\n",
    "| -        | object.\\_\\_sub\\_\\_(self, other)           |\n",
    "| *        | object.\\_\\_mul\\_\\_(self, other)           |\n",
    "| //       | object.\\_\\_floordiv\\_\\_(self, other)      |\n",
    "| /        | object.\\_\\_truediv\\_\\_(self, other)       |\n",
    "| **       | object.\\_\\_pow\\_\\_(self, other[, modulo]) |\n",
    "| print()  | object.\\_\\_repr\\_\\_(self)                 |\n",
    "\n",
    "\n",
    "Not all of the magic methods will make sense for all classes. Some that make sense (in my sandwich head) are adding, subtracting, equality, inequality, and printing out some representation of our sandwich. Not all of the magic methods will make sense for all classes. \n",
    "\n",
    "#### Magic Methods - Adding"
   ]
  },
  {
   "cell_type": "code",
   "execution_count": null,
   "id": "7902f9ab-97d2-46ec-88f7-5ee3f32f2af9",
   "metadata": {},
   "outputs": [],
   "source": [
    "class Sandwich(object):\n",
    "    def __init__(self, owner, bread='white'):\n",
    "        self.owner = owner\n",
    "        self.bread = bread\n",
    "        self.toppings = []\n",
    "    def __add__(self, topping):\n",
    "        return self.toppings.append(topping)"
   ]
  },
  {
   "cell_type": "markdown",
   "id": "0b0435be-7b34-4eee-91f6-70f3ec20e3a0",
   "metadata": {},
   "source": [
    "Here, we add the magic method for addition to our class, and state that the ```+``` operator should append the argument `topping` that follows it to our list of toppings, then return that updated list.\n",
    "\n",
    "#### Magic Methods - Subtracting"
   ]
  },
  {
   "cell_type": "code",
   "execution_count": null,
   "id": "ca71efa9-212c-48d1-91b4-bee6246f927b",
   "metadata": {},
   "outputs": [],
   "source": [
    "class Sandwich(object):\n",
    "    def __init__(self, owner, bread='white'):\n",
    "        self.owner = owner\n",
    "        self.bread = bread\n",
    "        self.toppings = []\n",
    "        \n",
    "    # NEW CODE HERE\n",
    "    def __add__(self, topping):\n",
    "        return self.toppings.append(topping)\n",
    "    def __sub__(self, topping):\n",
    "        if topping in self.toppings:\n",
    "            return self.toppings.remove(topping)\n",
    "        else:\n",
    "            print(\"Topping not present, and can't be removed.\")"
   ]
  },
  {
   "cell_type": "markdown",
   "id": "55e45e87-c320-42e0-af23-2d7a4b193c24",
   "metadata": {
    "tags": []
   },
   "source": [
    "Subtracting is trickier, but we need to declare that the ```-``` operator should check for a topping in our list, and remove it if present. We then use the `.remove` method that is associated with all `list` objects to remove all toppings with the value given to the `topping` argument.\n",
    "\n",
    "#### Magic Methods - (In)Equality"
   ]
  },
  {
   "cell_type": "code",
   "execution_count": null,
   "id": "77ac0b50-556d-4a07-9b7f-428cc0e34444",
   "metadata": {
    "tags": []
   },
   "outputs": [],
   "source": [
    "class Sandwich(object):\n",
    "    def __init__(self, owner, bread='white'):\n",
    "        self.owner = owner\n",
    "        self.bread = bread\n",
    "        self.toppings = []\n",
    "    def __add__(self, topping):\n",
    "        return self.toppings.append(topping)\n",
    "    def __sub__(self, topping):\n",
    "        if topping in self.toppings:\n",
    "            return self.toppings.remove(topping)\n",
    "        else:\n",
    "            print(\"Topping not present, and can't be removed.\")\n",
    "            \n",
    "    # NEW CODE HERE\n",
    "    def __eq__(self, other):\n",
    "        if (self.bread==other.bread) and \n",
    "          (sorted(self.toppings) == sorted(other.toppings)):\n",
    "            return True\n",
    "        else:\n",
    "            return False\n",
    "    def __ne__(self, other):\n",
    "        return not (self == other)"
   ]
  },
  {
   "cell_type": "markdown",
   "id": "13ad9c09-1fe2-40d7-9f25-61db655207ec",
   "metadata": {
    "tags": []
   },
   "source": [
    "Note that we have to declare both ``==`` and ``!=`` through their magic methods. Also, it is worth mentioning that we use the name of the magic method from the table above, and not the symbol itself in order to define the method associated with these symbols for our class objects. Thus, `+` is defined as `__add__`, `-` as `__sub__`, and `==` and `!=` are `__eq__` and `__ne__`, respectively.\n",
    "\n",
    "\n",
    "#### Magic Methods - Strings\n",
    "\n",
    "Finally, we need to describe a way in which our class can be represented as a string. This will help us to not have to see anything that looks like"
   ]
  },
  {
   "cell_type": "raw",
   "id": "d825823e-3f76-45d6-85aa-dc070eda7928",
   "metadata": {
    "tags": []
   },
   "source": [
    "<__main__.Sandwich object at 0x7f7a445d3080>"
   ]
  },
  {
   "cell_type": "markdown",
   "id": "9f9024ed-9836-4d0c-b493-b90c13985093",
   "metadata": {
    "tags": []
   },
   "source": [
    "when we try to print our variable. This might be useful to someone, but that someone is not me (and probably isn't you, either!). We can define this representation using the `__repr__` magic method. This will be applied whenever we simply type the name of the class instance into a cell and run it, or when we use the `print()` function to print out our class instance."
   ]
  },
  {
   "cell_type": "code",
   "execution_count": null,
   "id": "40d3feca-e1db-4c4f-b7a9-1bbf7569c681",
   "metadata": {
    "tags": []
   },
   "outputs": [],
   "source": [
    "class Sandwich(object):\n",
    "    def __init__(self, owner, bread='white'):\n",
    "        self.owner = owner\n",
    "        self.bread = bread\n",
    "        self.toppings = []\n",
    "    def __add__(self, topping):\n",
    "        return self.toppings.append(topping)\n",
    "    def __sub__(self, topping):\n",
    "        if topping in self.toppings:\n",
    "            return self.toppings.remove(topping)\n",
    "        else:\n",
    "            print(\"Topping not present, and can't be removed.\")\n",
    "    def __eq__(self, other):\n",
    "        if (self.bread==other.bread) and (sorted(self.toppings) == sorted(other.toppings)):\n",
    "            return True\n",
    "        else:\n",
    "            return False\n",
    "    def __ne__(self, other):\n",
    "        return not (self == other)\n",
    "    def __repr__(self):\n",
    "        alltops = \"Toppings:\\t\"\n",
    "        for i in self.toppings:\n",
    "            alltops += \" %s\" % i\n",
    "        return \"Owner:\\t\\t \"+ str(self.owner) +\"\\n\" + alltops + \"\\nBread:\\t\\t \" + self.bread"
   ]
  },
  {
   "cell_type": "markdown",
   "id": "19f2ee42-c058-4529-9b53-a0847ca92dcb",
   "metadata": {
    "tags": []
   },
   "source": [
    "Now we can print our sandwich!"
   ]
  },
  {
   "cell_type": "markdown",
   "id": "135977ef-074b-43e5-840f-6c64f612aa94",
   "metadata": {
    "tags": []
   },
   "source": [
    "### More Methods (Muggle Methods?)\n",
    "\n",
    "We can also create methods that are based on the unique functionality of our class of objects. These methods won't be associated with predetermined symbols, and will look much more like our functions from last lesson. Since we are [pretending to be] working at a store, we might care about pricing a given sandwich.\n",
    "- Let's call the method ``get_price``, and have it take two arguments (`self` and a `discount`) with `discount` having a default value of ``0``, and store ``price`` as an attribute of our sandwich object\n",
    "- Each topping costs $1\n",
    "- Specialty bread (not white bread) is $2, white bread is provided at no cost\n",
    "\n",
    "One way to create this functionality is as follows:"
   ]
  },
  {
   "cell_type": "code",
   "execution_count": null,
   "id": "3383dd5c-9418-4e38-ad93-5e720d30c87d",
   "metadata": {},
   "outputs": [],
   "source": [
    "class Sandwich(object):\n",
    "    def __init__(self, owner, bread='white'):\n",
    "        self.owner = owner\n",
    "        self.bread = bread\n",
    "        self.toppings = []\n",
    "    def __add__(self, topping):\n",
    "        return self.toppings.append(topping)\n",
    "    def __sub__(self, topping):\n",
    "        if topping in self.toppings:\n",
    "            return self.toppings.remove(topping)\n",
    "        else:\n",
    "            print(\"Topping not present, and can't be removed.\")\n",
    "    def __eq__(self, other):\n",
    "        if (self.bread==other.bread) and (sorted(self.toppings) == sorted(other.toppings)):\n",
    "            return True\n",
    "        else:\n",
    "            return False\n",
    "    def __ne__(self, other):\n",
    "        return not (self == other)\n",
    "    def __repr__(self):\n",
    "        alltops = \"Toppings:\\t\"\n",
    "        for i in self.toppings:\n",
    "            alltops += \" %s\" % i\n",
    "        return \"Owner:\\t\\t \"+ str(self.owner) +\"\\n\" + alltops + \"\\nBread:\\t\\t \" + self.bread\n",
    "    \n",
    "    # NEW CODE HERE\n",
    "    def get_price(self, discount=0.0):\n",
    "        self.price = 0\n",
    "        for i in self.toppings:\n",
    "            self.price += 1\n",
    "        if self.bread != 'white':\n",
    "            self.price += 2\n",
    "        if discount > 0:\n",
    "            self.price *= (1-discount)\n",
    "        return self.price"
   ]
  },
  {
   "cell_type": "markdown",
   "id": "70a9d2e9-4908-4eb2-a3fc-e325d89107a8",
   "metadata": {},
   "source": [
    "Now, we can use our new method by simply calling the method attached to a `Sandwich` object, like this:"
   ]
  },
  {
   "cell_type": "code",
   "execution_count": null,
   "id": "1a91740a-34da-47ca-8608-9d91273e747f",
   "metadata": {},
   "outputs": [],
   "source": [
    "mySand = Sandwich('Dusty')\n",
    "mySand + 'chicken'\n",
    "mySand + 'lettuce'\n",
    "mySand + 'avocados'\n",
    "\n",
    "mySand.get_price(discount=0.1) # apply a 10% discount"
   ]
  },
  {
   "cell_type": "markdown",
   "id": "b97e8102-1a74-4e1d-a064-c7def583b33f",
   "metadata": {},
   "source": [
    "Thus, the sandwich we just made would have a price of \\$2.70! "
   ]
  },
  {
   "cell_type": "markdown",
   "id": "f5c850fb-8cd4-428b-9c15-9741c2e63ff7",
   "metadata": {},
   "source": [
    "## Documentation\n",
    " \n",
    " When creating a class, a function, or a method, we should always be sure to **document** that object! Documentation will save us, not to mention other future users of our code, from having to read the code line-by-line in order to understand how the code functions. We as authors can then remember how to use it after long breaks, and we can share our code with others looking to perform similar tasks.\n",
    "\n",
    "The best way to document classes and functions in Python is by modifying the *docstring* of that class or function. A docstring is the original use case for the triple quotes that we occasionally use to denote multi-line strings. We can put these strings just inside of a class or function in order to document the functionality of that class or function. Let's look at some possible docstrings for the `Sandwich` class we have created in this lesson:"
   ]
  },
  {
   "cell_type": "code",
   "execution_count": null,
   "id": "d00319a5-2ff9-4d30-bc52-70f9751c96cf",
   "metadata": {},
   "outputs": [],
   "source": [
    "class Sandwich(object):\n",
    "    \"\"\"A class defining a sandwich. Toppings can be added\n",
    "    and removed, and the owner and bread type can be \n",
    "    declared upon initiation.\n",
    "\n",
    "    Attributes:\n",
    "    owner (str): the person puchasing the sandwich\n",
    "    bread (str): the type of bread to be used\n",
    "    toppings (list): a list of the toppings (str) that\n",
    "      are to be put on the sandwich\n",
    "    price (float): the price of the sandwich\n",
    "    \"\"\"\n",
    "    \n",
    "    def __init__(self, owner, bread='white'):\n",
    "        self.owner = owner\n",
    "        self.bread = bread\n",
    "        self.toppings = []\n",
    "    \n",
    "    def __add__(self, topping):\n",
    "        return self.toppings.append(topping)\n",
    "    \n",
    "    def __sub__(self, topping):\n",
    "        if topping in self.toppings:\n",
    "            return self.toppings.remove(topping)\n",
    "        else:\n",
    "            print(\"Topping not present, and can't be removed.\")\n",
    "    \n",
    "    def __eq__(self, other):\n",
    "        if (self.bread==other.bread) and (sorted(self.toppings) == sorted(other.toppings)):\n",
    "            return True\n",
    "        else:\n",
    "            return False\n",
    "    \n",
    "    def __ne__(self, other):\n",
    "        return not (self == other)\n",
    "    \n",
    "    def __repr__(self):\n",
    "        alltops = \"Toppings:\\t\"\n",
    "        for i in self.toppings:\n",
    "            alltops += \" %s\" % i\n",
    "        return \"Owner:\\t\\t \"+ str(self.owner) +\"\\n\" + alltops + \"\\nBread:\\t\\t \" + self.bread\n",
    "    \n",
    "    def get_price(self, discount=0.0):\n",
    "        \"\"\"A function to calculate the price of the sandwich.\n",
    "        Each topping costs $1, and bread that is not 'white'\n",
    "        costs $2. Discounts should be applied as the amount\n",
    "        to be deducted.\n",
    "\n",
    "        Inputs:\n",
    "          discount (float): amount to be discounted from \n",
    "            total price\n",
    "\n",
    "        Returns:\n",
    "          A Sandwich object with a price attribute\n",
    "        \"\"\"\n",
    "        self.price = 0\n",
    "        for i in self.toppings:\n",
    "            self.price += 1\n",
    "        if self.bread != 'white':\n",
    "            self.price += 2\n",
    "        if discount > 0:\n",
    "            self.price *= (1-discount)\n",
    "        return self.price"
   ]
  },
  {
   "cell_type": "markdown",
   "id": "50cc8ea4-9995-4d8c-a165-ec346662dff8",
   "metadata": {},
   "source": [
    "This enables us to use the `help()` function to learn more about our object, and for others who have imported it to do the same!"
   ]
  },
  {
   "cell_type": "code",
   "execution_count": null,
   "id": "38762cf4-138d-4a93-81ee-5ca7458a537a",
   "metadata": {},
   "outputs": [],
   "source": [
    "help(Sandwich)"
   ]
  },
  {
   "cell_type": "markdown",
   "id": "f1af4246-d78b-4303-8f95-63b331ef109b",
   "metadata": {},
   "source": [
    "At this point, we are ready to start using our `Sandwich` class objects!\n",
    "\n",
    "**Solve it!**\n",
    "\n",
    "Create your own ``ComplexNumber`` class in the cell with the comment `#si-complex-number`!\n",
    "1. Complex numbers have a real and an imaginary part. The `__init__()` method should therefore accept two numbers. Store the first as self.real and the second as self.imag.\n",
    "2. Implement a `conjugate()` method that returns the object's complex conjugate (as a new `ComplexNumber` object). Recall that $x = a + bi \\implies \\bar{x} = a - bi$, where $\\bar{x}$ is the complex conjugate of $x$.\n",
    "3. Add the following magic methods to your `ComplexNumber` class:\n",
    " \t- `__abs__()` determines the output of the builtin `abs()` function (absolute value). Implement `__abs__()` so that it returns the magnitude of the complex number. Recall that $|a + bi| = \\sqrt{a^2 + b^2}$.\n",
    " \t- Implement `__lt__()` and `__gt__()` so that `ComplexNumber` objects can be compared by their magnitudes. That is, $(a + bi) < (c + di)$ if and only if $|a + bi| < |c + di|$, and so on.\n",
    "4. Add the following magic methods to your `ComplexNumber` class:\n",
    "   - Implement `__eq__()` and `__ne__()` so that two `ComplexNumber` objects are equal if and only if they have the same real and imaginary parts.\n",
    " \t-  Implement `__add__()`, `__sub__()`, `__mul__()`, and `__div__()` appropriately. Each of these should return a new `ComplexNumber` object."
   ]
  },
  {
   "cell_type": "code",
   "execution_count": null,
   "id": "ff828581-99ed-444e-80eb-05f2842d1e12",
   "metadata": {},
   "outputs": [],
   "source": [
    "#si-complex-number\n",
    "class ComplexNumber:\n",
    "    def __init__(self, real, imag):\n",
    "        self.real = real\n",
    "        self.imag = imag\n",
    "\n",
    "    def conjugate(self):\n",
    "        return ComplexNumber(self.real, -self.imag)\n",
    "\n",
    "    def __abs__(self):\n",
    "        return (self.real ** 2 + self.imag ** 2) ** 0.5\n",
    "\n",
    "    def __lt__(self, other):\n",
    "        return abs(self) < abs(other)\n",
    "\n",
    "    def __gt__(self, other):\n",
    "        return abs(self) > abs(other)\n",
    "\n",
    "    def __eq__(self, other):\n",
    "        return self.real == other.real and self.imag == other.imag\n",
    "\n",
    "    def __ne__(self, other):\n",
    "        return not self.__eq__(other)\n",
    "\n",
    "    def __add__(self, other):\n",
    "        return ComplexNumber(self.real + other.real, self.imag + other.imag)\n",
    "\n",
    "    def __sub__(self, other):\n",
    "        return ComplexNumber(self.real - other.real, self.imag - other.imag)\n",
    "\n",
    "    def __mul__(self, other):\n",
    "        real = self.real * other.real - self.imag * other.imag\n",
    "        imag = self.real * other.imag + self.imag * other.real\n",
    "        return ComplexNumber(real, imag)\n",
    "\n",
    "    def __truediv__(self, other):\n",
    "        denominator = other.real ** 2 + other.imag ** 2\n",
    "        real = (self.real * other.real + self.imag * other.imag) / denominator\n",
    "        imag = (self.imag * other.real - self.real * other.imag) / denominator\n",
    "        return ComplexNumber(real, imag)\n",
    "\n",
    "    def __repr__(self):\n",
    "        return f\"{self.real} + {self.imag}i\"\n"
   ]
  },
  {
   "cell_type": "markdown",
   "id": "3ca7db51-a709-480a-b702-e4d199f5e79d",
   "metadata": {},
   "source": [
    "**Solve it!**\n",
    "\n",
    "Classes provide a great way to bundle information and functions. In the cell with the comment `#si-academic-record`, we will create a class called `StudentRecord` to record student academic information:\n",
    "\n",
    "1. The class should contain attributes for recording\n",
    "    - `firstName`, `lastName` to store First and Last names separately\n",
    "    - `dob` to store the student's Date of Birth\n",
    "    - `hsName`, `hsCity`, `hsState` to store High School name, city, and state information\n",
    "    - `degree` to store student's chosen Degree program\n",
    "    - `address` to store a string of the student's Address\n",
    "    - `transcript` to store a student's Grade history. This transcript should be of a type that allows the storage of the course name `course`, grade in the course `grade`, the number of credits assigned to the course `credits`, and the semester and year taken (`semester` and `year`).\n",
    "2. The class should accept information for all variables listed above upon creation.\n",
    "3. The class should include the following methods: \n",
    "    - `cumGPA` to return a float value of cumulative GPA\n",
    "    - `semGPA` to return a float value of semester GPA\n",
    "    - `credits` to count the number of credits a student has accumulated, and return that number as a float\n",
    "    - `newCourse` to add a course to the grade history. Arguments will be provided in this order: course, year, semester, credits, grade\n",
    "    - `scholarship` to determine scholarship eligibility based on the following cumulative GPA cutoffs:\n",
    "        - 3.9 for a full-ride,\n",
    "        - 3.63 for a half-tuition scholarship, and\n",
    "        - 3.3 for a 1/4 tuition scholarship.\n",
    "        - All GPA’s below the minimum scholarship cutoff receive no reward.\n",
    "        - The method should return a string of\n",
    "            - \"Full-ride\"\n",
    "            - \"Half-tuition\"\n",
    "            - \"Quarter-tuition\"\n",
    "            - \"Not Eligible\"\n",
    " \n",
    "\n",
    "Hint: You might want to create a SECOND/separate class to handle courses that can be added to the transcript!"
   ]
  },
  {
   "cell_type": "code",
   "execution_count": null,
   "id": "6b9b7fce-7231-4b44-9130-c9c600e799ab",
   "metadata": {},
   "outputs": [],
   "source": [
    "#si-academic-record\n",
    "class Course:\n",
    "    def __init__(self, course, year, semester, credits, grade):\n",
    "        self.course = course\n",
    "        self.year = year\n",
    "        self.semester = semester\n",
    "        self.credits = credits\n",
    "        self.grade = grade\n",
    "\n",
    "\n",
    "class StudentRecord:\n",
    "    def __init__(self, firstName, lastName, dob, hsName, hsCity, hsState, degree, address):\n",
    "        self.firstName = firstName\n",
    "        self.lastName = lastName\n",
    "        self.dob = dob\n",
    "        self.hsName = hsName\n",
    "        self.hsCity = hsCity\n",
    "        self.hsState = hsState\n",
    "        self.degree = degree\n",
    "        self.address = address\n",
    "        self.transcript = []\n",
    "\n",
    "    def cumGPA(self):\n",
    "        total_credits = sum(course.credits for course in self.transcript)\n",
    "        total_points = sum(course.grade * course.credits for course in self.transcript)\n",
    "        return total_points / total_credits if total_credits else 0.0\n",
    "\n",
    "    def semGPA(self, year, semester):\n",
    "        semester_courses = [course for course in self.transcript if course.year == year and course.semester == semester]\n",
    "        total_credits = sum(course.credits for course in semester_courses)\n",
    "        total_points = sum(course.grade * course.credits for course in semester_courses)\n",
    "        return total_points / total_credits if total_credits else 0.0\n",
    "\n",
    "    def credits(self):\n",
    "        return float(sum(course.credits for course in self.transcript))\n",
    "\n",
    "    def newCourse(self, course, year, semester, credits, grade):\n",
    "        self.transcript.append(Course(course, year, semester, credits, grade))\n",
    "\n",
    "    def scholarship(self):\n",
    "        gpa = self.cumGPA()\n",
    "        if gpa >= 3.9:\n",
    "            return \"Full-ride\"\n",
    "        elif gpa >= 3.63:\n",
    "            return \"Half-tuition\"\n",
    "        elif gpa >= 3.3:\n",
    "            return \"Quarter-tuition\"\n",
    "        else:\n",
    "            return \"Not Eligible\"\n",
    "\n",
    "    def __repr__(self):\n",
    "        return f\"{self.firstName} {self.lastName}, Degree: {self.degree}, GPA: {self.cumGPA():.2f}\""
   ]
  }
 ],
 "metadata": {
  "kernelspec": {
   "display_name": "Python 3 (ipykernel)",
   "language": "python",
   "name": "python3"
  },
  "language_info": {
   "codemirror_mode": {
    "name": "ipython",
    "version": 3
   },
   "file_extension": ".py",
   "mimetype": "text/x-python",
   "name": "python",
   "nbconvert_exporter": "python",
   "pygments_lexer": "ipython3",
   "version": "3.9.13"
  }
 },
 "nbformat": 4,
 "nbformat_minor": 5
}
